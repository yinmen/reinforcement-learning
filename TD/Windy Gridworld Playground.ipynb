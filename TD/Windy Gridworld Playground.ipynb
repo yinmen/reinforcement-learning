{
 "cells": [
  {
   "cell_type": "code",
   "execution_count": 1,
   "metadata": {
    "collapsed": true
   },
   "outputs": [],
   "source": [
    "import gym\n",
    "import numpy as np"
   ]
  },
  {
   "cell_type": "code",
   "execution_count": 73,
   "metadata": {
    "collapsed": false
   },
   "outputs": [],
   "source": [
    "from gym.envs.toy_text import discrete\n",
    "import sys\n",
    "\n",
    "UP = 0\n",
    "RIGHT = 1\n",
    "DOWN = 2\n",
    "LEFT = 3\n",
    "\n",
    "class WindyGridworldEnv(discrete.DiscreteEnv):\n",
    "    \n",
    "    metadata = {'render.modes': ['human', 'ansi']}\n",
    "    \n",
    "    def _limit_coordinates(self, coord):\n",
    "        coord[0] = min(coord[0], self.shape[0] - 1)\n",
    "        coord[0] = max(coord[0], 0)\n",
    "        coord[1] = min(coord[1], self.shape[1] - 1)\n",
    "        coord[1] = max(coord[1], 0)\n",
    "        return coord\n",
    "    \n",
    "    def _calculate_transition_prob(self, current, delta, winds):\n",
    "        new_position = np.array(current) + np.array(delta)\n",
    "        new_position = self._limit_coordinates(new_position).astype(int)\n",
    "        new_position = new_position + np.array([-1, 0]) * winds[tuple(new_position)]\n",
    "        new_position = self._limit_coordinates(new_position).astype(int)\n",
    "        new_state = np.ravel_multi_index(tuple(new_position), self.shape)\n",
    "        is_done = tuple(new_position) == (3, 7)\n",
    "        return [(1.0, new_state, -1.0, is_done)]\n",
    "    \n",
    "    def __init__(self):\n",
    "        self.shape = (7, 10)\n",
    "        \n",
    "        nS = np.prod(self.shape)\n",
    "        nA = 4\n",
    "        \n",
    "        # Wind strength\n",
    "        winds = np.zeros(self.shape)\n",
    "        winds[:,[3,4,5,8]] = 1\n",
    "        winds[:,[6,7]] = 2\n",
    "        \n",
    "        # Calculate transition probabilities\n",
    "        P = {}\n",
    "        for s in range(nS):\n",
    "            position = np.unravel_index(s, self.shape)\n",
    "            P[s] = { a : [] for a in range(nA) }\n",
    "            P[s][UP] = self._calculate_transition_prob(position, [-1, 0], winds)\n",
    "            P[s][RIGHT] = self._calculate_transition_prob(position, [0, 1], winds)\n",
    "            P[s][DOWN] = self._calculate_transition_prob(position, [1, 0], winds)\n",
    "            P[s][LEFT] = self._calculate_transition_prob(position, [0, -1], winds)\n",
    "\n",
    "        # We always start in state (3, 0)\n",
    "        isd = np.zeros(nS)\n",
    "        isd[np.ravel_multi_index((3,0), self.shape)] = 1.0\n",
    "        \n",
    "        super(WindyGridworldEnv, self).__init__(nS, nA, P, isd)\n",
    "        \n",
    "    def _render(self, mode='human', close=False):\n",
    "        if close:\n",
    "            return\n",
    "\n",
    "        outfile = StringIO() if mode == 'ansi' else sys.stdout\n",
    "        \n",
    "        for s in range(self.nS):\n",
    "            position = np.unravel_index(s, self.shape)\n",
    "            # print(self.s)\n",
    "            if self.s == s:\n",
    "                output = \" x \"\n",
    "            elif position == (3,7):\n",
    "                output = \" T \"\n",
    "            else:\n",
    "                output = \" o \"\n",
    "                \n",
    "            if position[1] == 0:\n",
    "                output = output.lstrip() \n",
    "            if position[1] == self.shape[1] - 1:\n",
    "                output = output.rstrip() \n",
    "                output += \"\\n\"\n",
    "                \n",
    "            outfile.write(output)"
   ]
  },
  {
   "cell_type": "code",
   "execution_count": null,
   "metadata": {
    "collapsed": true
   },
   "outputs": [],
   "source": []
  }
 ],
 "metadata": {
  "kernelspec": {
   "display_name": "Python 3",
   "language": "python",
   "name": "python3"
  },
  "language_info": {
   "codemirror_mode": {
    "name": "ipython",
    "version": 3
   },
   "file_extension": ".py",
   "mimetype": "text/x-python",
   "name": "python",
   "nbconvert_exporter": "python",
   "pygments_lexer": "ipython3",
   "version": "3.5.1"
  }
 },
 "nbformat": 4,
 "nbformat_minor": 0
}
